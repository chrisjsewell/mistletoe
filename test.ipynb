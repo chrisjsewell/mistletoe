{
 "nbformat": 4,
 "nbformat_minor": 2,
 "metadata": {
  "language_info": {
   "name": "python",
   "codemirror_mode": {
    "name": "ipython",
    "version": 3
   },
   "version": "3.7.6-final"
  },
  "orig_nbformat": 2,
  "file_extension": ".py",
  "mimetype": "text/x-python",
  "name": "python",
  "npconvert_exporter": "python",
  "pygments_lexer": "ipython3",
  "version": 3,
  "kernelspec": {
   "name": "python37664bitmistuneconda77ae93e05d9c4c1eab3d7fc3f8312065",
   "display_name": "Python 3.7.6 64-bit ('mistune': conda)"
  }
 },
 "cells": [
  {
   "cell_type": "code",
   "execution_count": 3,
   "metadata": {},
   "outputs": [],
   "source": [
    "from mistletoe import Document\n",
    "from mistletoe.ast_renderer import get_ast\n",
    "from jsonextended.edict import pprint\n",
    "\n",
    "string = \"\"\"\n",
    "# a\n",
    "\n",
    "![a](b \"c\")\n",
    "\n",
    "*a*\n",
    "\n",
    "sad\n",
    "b\n",
    "===\n",
    "\n",
    "xyz\n",
    "asd\n",
    "\n",
    "> g\n",
    "\n",
    "asd [a]()\n",
    "\n",
    "## b\n",
    "\n",
    "abc\n",
    "\n",
    "```::python abc\n",
    "code\n",
    "```\n",
    "\n",
    "- a\n",
    "- b\n",
    "    - c\n",
    "\n",
    "1. a\n",
    "1. b\n",
    "\n",
    "a. d\n",
    "\n",
    "\"\"\""
   ]
  },
  {
   "cell_type": "code",
   "execution_count": 1,
   "metadata": {},
   "outputs": [
    {
     "data": {
      "text/plain": "[20, 20, 20, 20, 20]"
     },
     "execution_count": 1,
     "metadata": {},
     "output_type": "execute_result"
    }
   ],
   "source": [
    "max_cols = 5\n",
    "[100 // max_cols] * max_cols"
   ]
  },
  {
   "cell_type": "code",
   "execution_count": 12,
   "metadata": {},
   "outputs": [
    {
     "name": "stdout",
     "output_type": "stream",
     "text": "children:\n  - children:\n      - content: a\n        type:  RawText\n    level:  1\n    range:  (1, 1)\n    type:   Heading\n  - children:\n      - children:\n          - content: a\n            type:  RawText\n        src:    b\n        title:  c\n        type:   Image\n    range:  (3, 3)\n    type:   Paragraph\n  - children:\n      - children:\n          - content: a\n            type:  RawText\n        type:   Emphasis\n    range:  (5, 5)\n    type:   Paragraph\n  - children:\n      - content: sad\n        type:  RawText\n      - content:\n        soft:  True\n        type:  LineBreak\n      - content: b\n        type:  RawText\n    level:  1\n    range:  (7, 9)\n    type:   SetextHeading\n  - children:\n      - content: xyz\n        type:  RawText\n      - content:\n        soft:  True\n        type:  LineBreak\n      - content: asd\n        type:  RawText\n    range:  (11, 12)\n    type:   Paragraph\n  - children:\n      - children:\n          - content: g\n            type:  RawText\n        range:  (14, 14)\n        type:   Paragraph\n    range:  (14, 14)\n    type:   Quote\n  - children:\n      - content: asd\n        type:  RawText\n      - children:\n          - content: a\n            type:  RawText\n        target:\n        title:\n        type:   Link\n    range:  (16, 16)\n    type:   Paragraph\n  - children:\n      - content: b\n        type:  RawText\n    level:  2\n    range:  (18, 18)\n    type:   Heading\n  - children:\n      - content: abc\n        type:  RawText\n    range:  (20, 20)\n    type:   Paragraph\n  - children:\n      - content: code\n\n        type:  RawText\n    language: ::python\n    range:  (21, 24)\n    type:   CodeFence\n  - children:\n      - children:\n          - children: [...]\n            range:  (0, 0)\n            type:   Paragraph\n        leader: -\n        loose:  False\n        prepend: 2\n        type:   ListItem\n      - children:\n          - children: [...]\n            range:  (0, 0)\n            type:   Paragraph\n          - children: [...]\n            loose:  False\n            start:  None\n            type:   List\n        leader: -\n        loose:  True\n        prepend: 2\n        type:   ListItem\n    loose:  True\n    start:  None\n    type:   List\n  - children:\n      - children:\n          - children: [...]\n            range:  (0, 0)\n            type:   Paragraph\n        leader: 1.\n        loose:  False\n        prepend: 3\n        type:   ListItem\n      - children:\n          - children: [...]\n            range:  (0, 0)\n            type:   Paragraph\n        leader: 1.\n        loose:  False\n        prepend: 3\n        type:   ListItem\n    loose:  False\n    start:  1\n    type:   List\n  - children:\n      - content: a. d\n        type:  RawText\n    range:  (33, 33)\n    type:   Paragraph\nfootnotes:\ntype:     Document\n"
    }
   ],
   "source": [
    "ast = get_ast(Document(string))\n",
    "\n",
    "pprint(ast, depth=4)"
   ]
  },
  {
   "cell_type": "code",
   "execution_count": 1,
   "metadata": {},
   "outputs": [
    {
     "name": "stdout",
     "output_type": "stream",
     "text": "<document source=\"\">\n    <section ids=\"header-1\" names=\"header\\ 1\">\n        <title>\n            header 1\n        <section ids=\"sub-header-1\" names=\"sub\\ header\\ 1\">\n            <title>\n                sub header 1\n            <paragraph>\n                a \n                <emphasis>\n                    b\n                 \n                <strong>\n                    c\n                 \n                <literal>\n                    abc\n                 \n                *\n        <section ids=\"sub-header-2\" names=\"sub\\ header\\ 2\">\n            <title>\n                sub header 2\n            <paragraph>\n                x y \n                <reference refuri=\"http://www.xyz.com\">\n                    a\n                 z\n            <transition>\n    <section ids=\"header-2\" names=\"header\\ 2\">\n        <title>\n            header 2\n        <literal_block language=\"::python\" xml:space=\"preserve\">\n            a = 1\n        <block_quote>\n            <paragraph>\n                abc\n        <bullet_list>\n            <list_item>\n                <paragraph>\n                    a\n            <list_item>\n                <paragraph>\n                    b\n                <bullet_list>\n                    <list_item>\n                        <paragraph>\n                            c\n        <enumerated_list>\n            <list_item>\n                <paragraph>\n                    a\n            <list_item>\n                <paragraph>\n                    b\n                <enumerated_list>\n                    <list_item>\n                        <paragraph>\n                            c \n                            <math>\n                                a\n        <paragraph>\n            <math_block nowrap=\"False\" number=\"True\" xml:space=\"preserve\">\n                a=1\n        <paragraph>\n            <problematic ids=\"id2\" refid=\"id1\">\n                :doc:`this lecture <heavy_tails>`\n\n:0: (ERROR/3) Unknown interpreted text role \"doc\".\n"
    }
   ],
   "source": [
    "from mistletoe import Document\n",
    "from mistletoe.docutils_renderer import DocutilsRenderer\n",
    "\n",
    "string = \"\"\"\n",
    "\n",
    "# header 1\n",
    "## sub header 1\n",
    "\n",
    "a *b* **c** `abc` \\*\n",
    "\n",
    "## sub header 2\n",
    "\n",
    "x y [a](http://www.xyz.com) z\n",
    "\n",
    "---\n",
    "\n",
    "# header 2\n",
    "\n",
    "```::python {a=1}\n",
    "a = 1\n",
    "```\n",
    "\n",
    "> abc\n",
    "\n",
    "- a\n",
    "- b\n",
    "    - c\n",
    "\n",
    "1. a\n",
    "2. b\n",
    "    1. c $a$\n",
    "\n",
    "$$a=1$$\n",
    "\n",
    "{doc}`this lecture <heavy_tails>`\n",
    "\n",
    "\"\"\"\n",
    "\n",
    "with DocutilsRenderer() as renderer:\n",
    "    renderer.render(Document(string))\n",
    "    document = renderer.document\n",
    "\n",
    "print(document.pformat())"
   ]
  },
  {
   "cell_type": "code",
   "execution_count": 3,
   "metadata": {},
   "outputs": [
    {
     "name": "stdout",
     "output_type": "stream",
     "text": "<document source=\"\">\n    <table classes=\"colwidths-auto\">\n        <tgroup cols=\"2\">\n            <colspec colwidth=\"50.0\">\n            <colspec colwidth=\"50.0\">\n            <thead>\n                <row>\n                    <entry>\n                        a\n                    <entry>\n                        b\n            <tbody>\n                <row>\n                    <entry>\n                        <emphasis>\n                            a\n                    <entry>\n                        2\n    <table classes=\"colwidths-auto\">\n        <tgroup cols=\"2\">\n            <colspec colwidth=\"50.0\">\n            <colspec colwidth=\"50.0\">\n            <thead>\n                <row>\n                    <entry>\n                        a\n                    <entry>\n                        b\n            <tbody>\n                <row>\n                    <entry>\n                        <emphasis>\n                            a\n                    <entry>\n                        2\n\n"
    }
   ],
   "source": [
    "from mistletoe import markdown\n",
    "from mistletoe.docutils_renderer import DocutilsRenderer\n",
    "\n",
    "string = \"\"\"\n",
    "\n",
    "```{table}\n",
    "| a   | b |\n",
    "|-----|---|\n",
    "| *a* | 2 |\n",
    "```\n",
    "\n",
    "| a   | b |\n",
    "|-----|---|\n",
    "| *a* | 2 |\n",
    "\"\"\"\n",
    "document = markdown(string, renderer=DocutilsRenderer)\n",
    "\n",
    "print(document.pformat())"
   ]
  },
  {
   "cell_type": "code",
   "execution_count": null,
   "metadata": {},
   "outputs": [],
   "source": []
  }
 ]
}
